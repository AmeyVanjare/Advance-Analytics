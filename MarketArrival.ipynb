{
  "nbformat": 4,
  "nbformat_minor": 0,
  "metadata": {
    "colab": {
      "name": "MarketArrival.ipynb",
      "provenance": [],
      "authorship_tag": "ABX9TyOdwZZTGm88guT0E6JOfXYt",
      "include_colab_link": true
    },
    "kernelspec": {
      "name": "python3",
      "display_name": "Python 3"
    },
    "language_info": {
      "name": "python"
    }
  },
  "cells": [
    {
      "cell_type": "markdown",
      "metadata": {
        "id": "view-in-github",
        "colab_type": "text"
      },
      "source": [
        "<a href=\"https://colab.research.google.com/github/AmeyVanjare/Advance-Analytics/blob/main/MarketArrival.ipynb\" target=\"_parent\"><img src=\"https://colab.research.google.com/assets/colab-badge.svg\" alt=\"Open In Colab\"/></a>"
      ]
    },
    {
      "cell_type": "markdown",
      "metadata": {
        "id": "fnZpKHkRLr2r"
      },
      "source": [
        " **Market Arrival Dataset**"
      ]
    },
    {
      "cell_type": "code",
      "metadata": {
        "id": "yjUijhUtLgJ9"
      },
      "source": [
        "import pandas as pd"
      ],
      "execution_count": 4,
      "outputs": []
    },
    {
      "cell_type": "code",
      "metadata": {
        "id": "9PYOAtRgLm9m"
      },
      "source": [
        "df=pd.read_csv(\"/content/MarketArrivals.csv\")\n",
        "print(df)"
      ],
      "execution_count": null,
      "outputs": []
    },
    {
      "cell_type": "code",
      "metadata": {
        "id": "cWkgpqSIM3bw"
      },
      "source": [
        "df['market'].unique()"
      ],
      "execution_count": null,
      "outputs": []
    },
    {
      "cell_type": "markdown",
      "metadata": {
        "id": "X9Ctzih0Pmar"
      },
      "source": [
        " **Find the market with maximum records in this data**"
      ]
    },
    {
      "cell_type": "code",
      "metadata": {
        "id": "pEjKM67vNq7a"
      },
      "source": [
        "df['market'].value_counts().head()"
      ],
      "execution_count": null,
      "outputs": []
    },
    {
      "cell_type": "markdown",
      "metadata": {
        "id": "Rlo_KCmlP0QD"
      },
      "source": [
        "**Find state with maximum number of markets in it**"
      ]
    },
    {
      "cell_type": "code",
      "metadata": {
        "id": "8cpl-3_ZQPy7"
      },
      "source": [
        "df.groupby(['state'])['market'].value_counts()"
      ],
      "execution_count": null,
      "outputs": []
    },
    {
      "cell_type": "markdown",
      "metadata": {
        "id": "AnaJSnRORdqL"
      },
      "source": [
        "**Choose one market. Find the maximum pricemax for that market for every year**"
      ]
    },
    {
      "cell_type": "code",
      "metadata": {
        "id": "F1zXaXnpRkib"
      },
      "source": [
        "df1=df.loc[df['market']=='HYDERABAD']\n",
        "df1.groupby(['year'])['priceMax'].max()"
      ],
      "execution_count": null,
      "outputs": []
    },
    {
      "cell_type": "markdown",
      "metadata": {
        "id": "O2RmDjDYcvXl"
      },
      "source": [
        " One company from punjab whats to purchase Wheat from the market in big quantity. \n",
        "Suggest best month to buy the wheat. \n"
      ]
    },
    {
      "cell_type": "code",
      "metadata": {
        "id": "KG9OcnImdKsL",
        "colab": {
          "base_uri": "https://localhost:8080/",
          "height": 178
        },
        "outputId": "4688f5c5-7480-4429-be2a-e29e26a449c1"
      },
      "source": [
        "df2=df.loc[df['state']=='PB']\n",
        "df2.groupby(['date'])['priceMin'].min()"
      ],
      "execution_count": 1,
      "outputs": [
        {
          "output_type": "error",
          "ename": "NameError",
          "evalue": "ignored",
          "traceback": [
            "\u001b[0;31m---------------------------------------------------------------------------\u001b[0m",
            "\u001b[0;31mNameError\u001b[0m                                 Traceback (most recent call last)",
            "\u001b[0;32m<ipython-input-1-8d2738a45d5c>\u001b[0m in \u001b[0;36m<module>\u001b[0;34m()\u001b[0m\n\u001b[0;32m----> 1\u001b[0;31m \u001b[0mdf2\u001b[0m\u001b[0;34m=\u001b[0m\u001b[0mdf\u001b[0m\u001b[0;34m.\u001b[0m\u001b[0mloc\u001b[0m\u001b[0;34m[\u001b[0m\u001b[0mdf\u001b[0m\u001b[0;34m[\u001b[0m\u001b[0;34m'state'\u001b[0m\u001b[0;34m]\u001b[0m\u001b[0;34m==\u001b[0m\u001b[0;34m'PB'\u001b[0m\u001b[0;34m]\u001b[0m\u001b[0;34m\u001b[0m\u001b[0;34m\u001b[0m\u001b[0m\n\u001b[0m\u001b[1;32m      2\u001b[0m \u001b[0mdf2\u001b[0m\u001b[0;34m.\u001b[0m\u001b[0mgroupby\u001b[0m\u001b[0;34m(\u001b[0m\u001b[0;34m[\u001b[0m\u001b[0;34m'date'\u001b[0m\u001b[0;34m]\u001b[0m\u001b[0;34m)\u001b[0m\u001b[0;34m[\u001b[0m\u001b[0;34m'priceMin'\u001b[0m\u001b[0;34m]\u001b[0m\u001b[0;34m.\u001b[0m\u001b[0mmin\u001b[0m\u001b[0;34m(\u001b[0m\u001b[0;34m)\u001b[0m\u001b[0;34m\u001b[0m\u001b[0;34m\u001b[0m\u001b[0m\n",
            "\u001b[0;31mNameError\u001b[0m: name 'df' is not defined"
          ]
        }
      ]
    }
  ]
}