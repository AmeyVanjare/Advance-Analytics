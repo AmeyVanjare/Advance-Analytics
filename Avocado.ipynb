{
  "nbformat": 4,
  "nbformat_minor": 0,
  "metadata": {
    "colab": {
      "name": "Avocado.ipynb",
      "provenance": [],
      "authorship_tag": "ABX9TyNMm21IJ2jnBlXF/PUi/cYq",
      "include_colab_link": true
    },
    "kernelspec": {
      "name": "python3",
      "display_name": "Python 3"
    },
    "language_info": {
      "name": "python"
    }
  },
  "cells": [
    {
      "cell_type": "markdown",
      "metadata": {
        "id": "view-in-github",
        "colab_type": "text"
      },
      "source": [
        "<a href=\"https://colab.research.google.com/github/AmeyVanjare/Advance-Analytics/blob/main/Avocado.ipynb\" target=\"_parent\"><img src=\"https://colab.research.google.com/assets/colab-badge.svg\" alt=\"Open In Colab\"/></a>"
      ]
    },
    {
      "cell_type": "markdown",
      "metadata": {
        "id": "Eh63ROz-huyl"
      },
      "source": [
        "Avocado Dataset\n"
      ]
    },
    {
      "cell_type": "markdown",
      "metadata": {
        "id": "hDuUb_DYhzoW"
      },
      "source": [
        "1. Find the date when maximum total volume transaction is done\n",
        "\n",
        "2. Find the total of bags including both conventional and organic types, for every day and every region ( Hint: use group by)\n",
        "\n",
        "3. Find the region where maximum total volume of organic avocado were sold in year 2016"
      ]
    },
    {
      "cell_type": "code",
      "metadata": {
        "id": "-ATVcOwaf_gP"
      },
      "source": [
        "import pandas as pd\n",
        "import datetime"
      ],
      "execution_count": 35,
      "outputs": []
    },
    {
      "cell_type": "code",
      "metadata": {
        "id": "FNCjrWxFiLBB"
      },
      "source": [
        "df=pd.read_csv('/content/avocado.csv',index_col=0)\n",
        "df.head()"
      ],
      "execution_count": null,
      "outputs": []
    },
    {
      "cell_type": "code",
      "metadata": {
        "id": "SMkwX2d_i00J"
      },
      "source": [
        "df.loc[df['Total Volume']==df.max()['Total Volume'],['Date','Total Volume']]"
      ],
      "execution_count": null,
      "outputs": []
    },
    {
      "cell_type": "code",
      "metadata": {
        "id": "awcuLjYTlecE"
      },
      "source": [
        "dfgroup=df.groupby(['Date','region'])['Small Bags','Large Bags','XLarge Bags','Total Bags']\n",
        "dfgroup.first()"
      ],
      "execution_count": null,
      "outputs": []
    },
    {
      "cell_type": "code",
      "metadata": {
        "id": "37f57CmPphax"
      },
      "source": [
        "df['Date']=df['Date'].apply(pd.to_datetime,format='%Y-%m-%d')\n",
        "df['year']=(df['Date']).dt.year\n",
        "df.head()"
      ],
      "execution_count": null,
      "outputs": []
    },
    {
      "cell_type": "code",
      "metadata": {
        "id": "oGeSRBcquS3t"
      },
      "source": [
        "df['type'].unique()"
      ],
      "execution_count": null,
      "outputs": []
    },
    {
      "cell_type": "code",
      "metadata": {
        "colab": {
          "base_uri": "https://localhost:8080/",
          "height": 80
        },
        "id": "bzn0mO2KsygI",
        "outputId": "a9dca596-98b1-4d46-9699-b88bb350ad5b"
      },
      "source": [
        "df1=df.loc[(df['year']==2016) & (df['type']=='organic')]\n",
        "df1=df1.loc[df1['Total Volume']==df1.max()['Total Volume'],['region','Total Volume']]\n",
        "df1.head()"
      ],
      "execution_count": 70,
      "outputs": [
        {
          "output_type": "execute_result",
          "data": {
            "text/html": [
              "<div>\n",
              "<style scoped>\n",
              "    .dataframe tbody tr th:only-of-type {\n",
              "        vertical-align: middle;\n",
              "    }\n",
              "\n",
              "    .dataframe tbody tr th {\n",
              "        vertical-align: top;\n",
              "    }\n",
              "\n",
              "    .dataframe thead th {\n",
              "        text-align: right;\n",
              "    }\n",
              "</style>\n",
              "<table border=\"1\" class=\"dataframe\">\n",
              "  <thead>\n",
              "    <tr style=\"text-align: right;\">\n",
              "      <th></th>\n",
              "      <th>Date</th>\n",
              "      <th>AveragePrice</th>\n",
              "      <th>Total Volume</th>\n",
              "      <th>4046</th>\n",
              "      <th>4225</th>\n",
              "      <th>4770</th>\n",
              "      <th>Total Bags</th>\n",
              "      <th>Small Bags</th>\n",
              "      <th>Large Bags</th>\n",
              "      <th>XLarge Bags</th>\n",
              "      <th>type</th>\n",
              "      <th>year</th>\n",
              "      <th>region</th>\n",
              "    </tr>\n",
              "  </thead>\n",
              "  <tbody>\n",
              "    <tr>\n",
              "      <th>35</th>\n",
              "      <td>2016-04-24</td>\n",
              "      <td>1.25</td>\n",
              "      <td>1475457.53</td>\n",
              "      <td>225429.09</td>\n",
              "      <td>524511.95</td>\n",
              "      <td>8687.81</td>\n",
              "      <td>716828.68</td>\n",
              "      <td>555986.43</td>\n",
              "      <td>160842.25</td>\n",
              "      <td>0.0</td>\n",
              "      <td>organic</td>\n",
              "      <td>2016</td>\n",
              "      <td>TotalUS</td>\n",
              "    </tr>\n",
              "  </tbody>\n",
              "</table>\n",
              "</div>"
            ],
            "text/plain": [
              "         Date  AveragePrice  Total Volume  ...     type  year   region\n",
              "35 2016-04-24          1.25    1475457.53  ...  organic  2016  TotalUS\n",
              "\n",
              "[1 rows x 13 columns]"
            ]
          },
          "metadata": {
            "tags": []
          },
          "execution_count": 70
        }
      ]
    }
  ]
}